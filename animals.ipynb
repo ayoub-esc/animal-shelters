{
  "nbformat": 4,
  "nbformat_minor": 0,
  "metadata": {
    "colab": {
      "name": "CSE351FinalProject.ipynb",
      "provenance": [],
      "collapsed_sections": [],
      "toc_visible": true
    },
    "kernelspec": {
      "name": "python3",
      "display_name": "Python 3"
    }
  },
  "cells": [
    {
      "cell_type": "markdown",
      "metadata": {
        "id": "5e8R4kZPh2Ws",
        "colab_type": "text"
      },
      "source": [
        "# CSE 351 Final Project: Animal Shelters\n"
      ]
    },
    {
      "cell_type": "code",
      "metadata": {
        "id": "2901hNltoVzE",
        "colab_type": "code",
        "colab": {}
      },
      "source": [
        "import pandas as pd\n",
        "import re\n",
        "import numpy as np\n",
        "import matplotlib.pyplot as plt\n",
        "import seaborn as sns\n",
        "%matplotlib inline\n",
        "import plotly as py\n",
        "import cufflinks as cf\n",
        "from plotly.offline import iplot\n",
        "\n",
        "df = pd.read_csv('shelter_train.csv')\n",
        "test = pd.read_csv('shelter_test.csv')\n",
        "df['DateTime'] = pd.to_datetime(df['DateTime'])\n",
        "df['Hour'] = df['DateTime'].dt.hour\n",
        "df['Day'] = df['DateTime'].dt.day\n",
        "df['Month'] = df['DateTime'].dt.month\n",
        "df['Year'] = df['DateTime'].dt.year\n",
        "del df['DateTime']\n",
        "df = df[df.SexuponOutcome != \"Unknown\"] #Remove unknown sex\n",
        "df = df[df['AgeuponOutcome'].notna()] #Remove rows with missing age\n",
        "df = df[df['SexuponOutcome'].notna()] #Remove rows with missing sex\n",
        "df['num'] = df['AgeuponOutcome'].str.extract('(\\d+)').astype(int)\n",
        "df['AgeuponOutcome'] = np.where(df['AgeuponOutcome'].str.contains(\"year\") , df['num']*365, df['AgeuponOutcome']) #convert years to days\n",
        "df['AgeuponOutcome'] = np.where(df['AgeuponOutcome'].str.islower() & df['AgeuponOutcome'].str.contains(\"month\") ,df['num']*30 , df['AgeuponOutcome']) #convert month to days\n",
        "df['AgeuponOutcome'] = np.where(df['AgeuponOutcome'].str.islower() & df['AgeuponOutcome'].str.contains(\"week\") ,df['num']*7 , df['AgeuponOutcome']) #convert weeks to days\n",
        "df['AgeuponOutcome'] = np.where(df['AgeuponOutcome'].str.islower() & df['AgeuponOutcome'].str.contains(\"day\") ,df['num'] , df['AgeuponOutcome'])\n",
        "del df['num']\n",
        "df = df[df.AgeuponOutcome != 0] #drop rows with age of 0 (some listed as 0 years old)\n",
        "#Clean test data\n",
        "test['DateTime'] = pd.to_datetime(test['DateTime'])\n",
        "test['Hour'] = test['DateTime'].dt.hour\n",
        "test['Day'] = test['DateTime'].dt.day\n",
        "test['Month'] = test['DateTime'].dt.month\n",
        "test['Year'] = test['DateTime'].dt.year\n",
        "del test['DateTime']\n",
        "test = test[test.SexuponOutcome != \"Unknown\"] #Remove unknown sex\n",
        "test = test[test['AgeuponOutcome'].notna()] #Remove rows with missing age\n",
        "test = test[test['SexuponOutcome'].notna()] #Remove rows with missing sex\n",
        "test['num'] = test['AgeuponOutcome'].str.extract('(\\d+)').astype(int)\n",
        "test['AgeuponOutcome'] = np.where(test['AgeuponOutcome'].str.contains(\"year\") , test['num']*365, test['AgeuponOutcome']) #convert years to days\n",
        "test['AgeuponOutcome'] = np.where(test['AgeuponOutcome'].str.islower() & test['AgeuponOutcome'].str.contains(\"month\") ,test['num']*30 , test['AgeuponOutcome']) #convert month to days\n",
        "test['AgeuponOutcome'] = np.where(test['AgeuponOutcome'].str.islower() & test['AgeuponOutcome'].str.contains(\"week\") ,test['num']*7 , test['AgeuponOutcome']) #convert weeks to days\n",
        "test['AgeuponOutcome'] = np.where(test['AgeuponOutcome'].str.islower() & test['AgeuponOutcome'].str.contains(\"day\") ,test['num'] , test['AgeuponOutcome'])\n",
        "del test['num']\n",
        "test = test[test.AgeuponOutcome != 0] #drop rows with age of 0 (some listed as 0 years old)"
      ],
      "execution_count": null,
      "outputs": []
    },
    {
      "cell_type": "code",
      "metadata": {
        "id": "E1xu-A3mRqGD",
        "colab_type": "code",
        "colab": {
          "base_uri": "https://localhost:8080/",
          "height": 200
        },
        "outputId": "dc3088fd-f500-4bc6-c908-346bf55ca9e6"
      },
      "source": [
        "df = df.drop(['AnimalID', 'Name'], axis=1) #Drop the AnimalID and Name values because we don't need it\n",
        "test = test.drop(['AnimalID', 'Name'], axis=1)\n",
        "df.head()"
      ],
      "execution_count": null,
      "outputs": [
        {
          "output_type": "execute_result",
          "data": {
            "text/html": [
              "<div>\n",
              "<style scoped>\n",
              "    .dataframe tbody tr th:only-of-type {\n",
              "        vertical-align: middle;\n",
              "    }\n",
              "\n",
              "    .dataframe tbody tr th {\n",
              "        vertical-align: top;\n",
              "    }\n",
              "\n",
              "    .dataframe thead th {\n",
              "        text-align: right;\n",
              "    }\n",
              "</style>\n",
              "<table border=\"1\" class=\"dataframe\">\n",
              "  <thead>\n",
              "    <tr style=\"text-align: right;\">\n",
              "      <th></th>\n",
              "      <th>OutcomeType</th>\n",
              "      <th>AnimalType</th>\n",
              "      <th>SexuponOutcome</th>\n",
              "      <th>AgeuponOutcome</th>\n",
              "      <th>Breed</th>\n",
              "      <th>Color</th>\n",
              "      <th>Hour</th>\n",
              "      <th>Day</th>\n",
              "      <th>Month</th>\n",
              "      <th>Year</th>\n",
              "    </tr>\n",
              "  </thead>\n",
              "  <tbody>\n",
              "    <tr>\n",
              "      <th>0</th>\n",
              "      <td>Return_to_owner</td>\n",
              "      <td>Dog</td>\n",
              "      <td>Neutered Male</td>\n",
              "      <td>365</td>\n",
              "      <td>Shetland Sheepdog Mix</td>\n",
              "      <td>Brown/White</td>\n",
              "      <td>18</td>\n",
              "      <td>12</td>\n",
              "      <td>2</td>\n",
              "      <td>2014</td>\n",
              "    </tr>\n",
              "    <tr>\n",
              "      <th>1</th>\n",
              "      <td>Euthanasia</td>\n",
              "      <td>Cat</td>\n",
              "      <td>Spayed Female</td>\n",
              "      <td>365</td>\n",
              "      <td>Domestic Shorthair Mix</td>\n",
              "      <td>Cream Tabby</td>\n",
              "      <td>12</td>\n",
              "      <td>13</td>\n",
              "      <td>10</td>\n",
              "      <td>2013</td>\n",
              "    </tr>\n",
              "    <tr>\n",
              "      <th>2</th>\n",
              "      <td>Adoption</td>\n",
              "      <td>Dog</td>\n",
              "      <td>Neutered Male</td>\n",
              "      <td>730</td>\n",
              "      <td>Pit Bull Mix</td>\n",
              "      <td>Blue/White</td>\n",
              "      <td>12</td>\n",
              "      <td>31</td>\n",
              "      <td>1</td>\n",
              "      <td>2015</td>\n",
              "    </tr>\n",
              "    <tr>\n",
              "      <th>3</th>\n",
              "      <td>Transfer</td>\n",
              "      <td>Cat</td>\n",
              "      <td>Intact Male</td>\n",
              "      <td>21</td>\n",
              "      <td>Domestic Shorthair Mix</td>\n",
              "      <td>Blue Cream</td>\n",
              "      <td>19</td>\n",
              "      <td>11</td>\n",
              "      <td>7</td>\n",
              "      <td>2014</td>\n",
              "    </tr>\n",
              "    <tr>\n",
              "      <th>4</th>\n",
              "      <td>Transfer</td>\n",
              "      <td>Dog</td>\n",
              "      <td>Neutered Male</td>\n",
              "      <td>730</td>\n",
              "      <td>Lhasa Apso/Miniature Poodle</td>\n",
              "      <td>Tan</td>\n",
              "      <td>12</td>\n",
              "      <td>15</td>\n",
              "      <td>11</td>\n",
              "      <td>2013</td>\n",
              "    </tr>\n",
              "  </tbody>\n",
              "</table>\n",
              "</div>"
            ],
            "text/plain": [
              "       OutcomeType AnimalType SexuponOutcome  ... Day Month  Year\n",
              "0  Return_to_owner        Dog  Neutered Male  ...  12     2  2014\n",
              "1       Euthanasia        Cat  Spayed Female  ...  13    10  2013\n",
              "2         Adoption        Dog  Neutered Male  ...  31     1  2015\n",
              "3         Transfer        Cat    Intact Male  ...  11     7  2014\n",
              "4         Transfer        Dog  Neutered Male  ...  15    11  2013\n",
              "\n",
              "[5 rows x 10 columns]"
            ]
          },
          "metadata": {
            "tags": []
          },
          "execution_count": 11
        }
      ]
    },
    {
      "cell_type": "markdown",
      "metadata": {
        "id": "fYMfDFWWLW1s",
        "colab_type": "text"
      },
      "source": [
        "## Cat EDA"
      ]
    },
    {
      "cell_type": "code",
      "metadata": {
        "id": "RGzyz10Bcinp",
        "colab_type": "code",
        "colab": {
          "base_uri": "https://localhost:8080/",
          "height": 369
        },
        "outputId": "4ecfb36f-1dab-462a-e265-9fad7f4a1e38"
      },
      "source": [
        "cat = df[df.AnimalType == \"Cat\"] # remove dogs\n",
        "testcat = test[test.AnimalType == \"Cat\"]\n",
        "ax = cat['OutcomeType'].value_counts().plot(kind='bar', title = \"Cat Outcomes\")\n",
        "ax.set_ylabel(\"Number of Cats\")\n",
        "ax.set_xlabel(\"Possible Outcomes\")\n",
        "adopted = cat[cat.OutcomeType == \"Adoption\"]\n",
        "eutha = cat[cat.OutcomeType == \"Euthanasia\"]\n",
        "transfer = cat[cat.OutcomeType == \"Transfer\"]\n",
        "owner = cat[cat.OutcomeType == \"Return_to_owner\"]\n",
        "diedcat = cat[cat.OutcomeType == \"Return_to_owner\"]"
      ],
      "execution_count": null,
      "outputs": [
        {
          "output_type": "display_data",
          "data": {
            "image/png": "[encoded data removed]",
            "text/plain": [
              "<Figure size 432x288 with 1 Axes>"
            ]
          },
          "metadata": {
            "tags": [],
            "needs_background": "light"
          }
        }
      ]
    },
    {
      "cell_type": "code",
      "metadata": {
        "id": "7sBfsbiLx37J",
        "colab_type": "code",
        "colab": {
          "base_uri": "https://localhost:8080/",
          "height": 315
        },
        "outputId": "d28652df-7542-4044-f691-2aba713d30df"
      },
      "source": [
        "ax = adopted['Hour'].value_counts().plot(kind='bar', title = \"Cats Time of Day for Adoption Outcome\")\n",
        "ax.set_ylabel(\"Number of Cats\")\n",
        "ax.set_xlabel(\"Hour\")"
      ],
      "execution_count": null,
      "outputs": [
        {
          "output_type": "execute_result",
          "data": {
            "text/plain": [
              "Text(0.5, 0, 'Hour')"
            ]
          },
          "metadata": {
            "tags": []
          },
          "execution_count": 12
        },
        {
          "output_type": "display_data",
          "data": {
            "image/png": "[encoded data removed]",
            "text/plain": [
              "<Figure size 432x288 with 1 Axes>"
            ]
          },
          "metadata": {
            "tags": [],
            "needs_background": "light"
          }
        }
      ]
    },
    {
      "cell_type": "code",
      "metadata": {
        "id": "W3UicMzagJGI",
        "colab_type": "code",
        "colab": {
          "base_uri": "https://localhost:8080/",
          "height": 315
        },
        "outputId": "65c3aa13-6188-40a7-ebfd-94b6953b4e4e"
      },
      "source": [
        "ax = transfer['Hour'].value_counts().plot(kind='bar', title = \"Cats Time of Day for Transfer Outcome\")\n",
        "ax.set_ylabel(\"Number of Cats\")\n",
        "ax.set_xlabel(\"Hour\")"
      ],
      "execution_count": null,
      "outputs": [
        {
          "output_type": "execute_result",
          "data": {
            "text/plain": [
              "Text(0.5, 0, 'Hour')"
            ]
          },
          "metadata": {
            "tags": []
          },
          "execution_count": 13
        },
        {
          "output_type": "display_data",
          "data": {
            "image/png": "[encoded data removed]",
            "text/plain": [
              "<Figure size 432x288 with 1 Axes>"
            ]
          },
          "metadata": {
            "tags": [],
            "needs_background": "light"
          }
        }
      ]
    },
    {
      "cell_type": "code",
      "metadata": {
        "id": "8PdqgC_9gEqZ",
        "colab_type": "code",
        "colab": {
          "base_uri": "https://localhost:8080/",
          "height": 315
        },
        "outputId": "4f2097d3-8861-4630-8ad3-89c912ab027b"
      },
      "source": [
        "ax = eutha['Hour'].value_counts().plot(kind='bar', title = \"Cats Time of Day for Euthanasia Outcome\")\n",
        "ax.set_ylabel(\"Number of Cats\")\n",
        "ax.set_xlabel(\"Hour\")"
      ],
      "execution_count": null,
      "outputs": [
        {
          "output_type": "execute_result",
          "data": {
            "text/plain": [
              "Text(0.5, 0, 'Hour')"
            ]
          },
          "metadata": {
            "tags": []
          },
          "execution_count": 14
        },
        {
          "output_type": "display_data",
          "data": {
            "image/png": "[encoded data removed]",
            "text/plain": [
              "<Figure size 432x288 with 1 Axes>"
            ]
          },
          "metadata": {
            "tags": [],
            "needs_background": "light"
          }
        }
      ]
    },
    {
      "cell_type": "code",
      "metadata": {
        "id": "bNPSElHgmu0n",
        "colab_type": "code",
        "colab": {
          "base_uri": "https://localhost:8080/",
          "height": 315
        },
        "outputId": "7a2ac0ef-9ff7-4be9-8cfe-aba189e4d695"
      },
      "source": [
        "ax = owner['Hour'].value_counts().plot(kind='bar', title = \"Cats Time of Day for Returned to Owner Outcome\")\n",
        "ax.set_ylabel(\"Number of Cats\")\n",
        "ax.set_xlabel(\"Hour\")"
      ],
      "execution_count": null,
      "outputs": [
        {
          "output_type": "execute_result",
          "data": {
            "text/plain": [
              "Text(0.5, 0, 'Hour')"
            ]
          },
          "metadata": {
            "tags": []
          },
          "execution_count": 15
        },
        {
          "output_type": "display_data",
          "data": {
            "image/png": "[encoded data removed]",
            "text/plain": [
              "<Figure size 432x288 with 1 Axes>"
            ]
          },
          "metadata": {
            "tags": [],
            "needs_background": "light"
          }
        }
      ]
    },
    {
      "cell_type": "markdown",
      "metadata": {
        "id": "mTb6SRRreb3W",
        "colab_type": "text"
      },
      "source": [
        "\n",
        "For cats, typically they are returned to their owners or adopted around 5 to 6 pm. Transfers and Euthanasia occur around 1 to 3 pm, but many transfers happen at 9 am.\n",
        "\n"
      ]
    },
    {
      "cell_type": "code",
      "metadata": {
        "id": "LZsexQtVxaMt",
        "colab_type": "code",
        "colab": {}
      },
      "source": [
        "cat['Breed'] = np.where(cat['Breed'].str.contains(\"Shorthair\") ,\"Domestic Shorthair\", cat['Breed']) \n",
        "cat['Breed'] = np.where(cat['Breed'].str.contains(\"Medium\") ,\"Domestic Medium Hair\", cat['Breed']) \n",
        "cat['Breed'] = np.where(cat['Breed'].str.contains(\"Long\") ,\"Domestic longhair\", cat['Breed']) \n",
        "cat['Breed'] = np.where(cat['Breed'].str.contains(\"Domestic\") , cat['Breed'], \"Other\")\n",
        "#Test data\n",
        "testcat['Breed'] = np.where(testcat['Breed'].str.contains(\"Shorthair\") ,\"Domestic Shorthair\", testcat['Breed']) \n",
        "testcat['Breed'] = np.where(testcat['Breed'].str.contains(\"Medium\") ,\"Domestic Medium Hair\", testcat['Breed']) \n",
        "testcat['Breed'] = np.where(testcat['Breed'].str.contains(\"Long\") ,\"Domestic longhair\", testcat['Breed']) \n",
        "testcat['Breed'] = np.where(testcat['Breed'].str.contains(\"Domestic\") , testcat['Breed'], \"Other\")"
      ],
      "execution_count": null,
      "outputs": []
    },
    {
      "cell_type": "markdown",
      "metadata": {
        "id": "g5ea71IN4B4j",
        "colab_type": "text"
      },
      "source": [
        "Grouping together the breeds into four catagories to reduce number of unqiue values. Researching cat breeds shows that domestic means mix or unknown so those were grouped together. The non-mix breed cats are grouped together as \"Other\"."
      ]
    },
    {
      "cell_type": "code",
      "metadata": {
        "id": "IjvY9siyn78X",
        "colab_type": "code",
        "colab": {
          "base_uri": "https://localhost:8080/",
          "height": 85
        },
        "outputId": "ad7fed36-fcf2-4b80-8249-32d980fc12fe"
      },
      "source": [
        "cat['Color'] = np.where(cat['Color'].str.contains(\"rown\") ,\"Brown\", cat['Color'])\n",
        "cat['Color'] = np.where(cat['Color'].str.contains(\"Tortie\") ,\"Toritie\", cat['Color']) \n",
        "cat['Color'] = np.where(cat['Color'].str.contains(\"Torbie\") ,\"Toribie\", cat['Color']) \n",
        "cat['Color'] = np.where(cat['Color'].str.contains(\"ream\") ,\"Buff\", cat['Color']) \n",
        "cat['Color'] = np.where(cat['Color'].str.contains(\"Tan\") ,\"Buff\", cat['Color'])\n",
        "cat['Color'] = np.where(cat['Color'].str.contains(\"Buff\") ,\"Buff\", cat['Color'])\n",
        "cat['Color'] = np.where(cat['Color'].str.contains(\"hocolate\") ,\"Brown\", cat['Color'])\n",
        "cat['Color'] = np.where(cat['Color'].str.contains(\"lue\") ,\"Blue\", cat['Color'])\n",
        "cat['Color'] = np.where(cat['Color'].str.contains(\"Point\") ,\"Color Point\", cat['Color'])\n",
        "cat['Color'] = np.where(cat['Color'].str.contains(\"Calico\") ,\"Calico\", cat['Color'])\n",
        "cat['Color'] = np.where(cat['Color'].str.contains(\"Tricolor\") ,\"Calico\", cat['Color'])\n",
        "cat['Color'] = np.where(cat['Color'].str.contains(\"range\") ,\"Orange\", cat['Color'])\n",
        "cat['Color'] = np.where(cat['Color'].str.contains(\"Black/Black\") ,\"Black\", cat['Color'])\n",
        "cat['Color'] = np.where(cat['Color'].str.contains(\"White/Black\") ,\"Black/White\", cat['Color'])\n",
        "cat['Color'] = np.where(cat['Color'].str.contains(\"White/White\") ,\"White\", cat['Color'])\n",
        "cat['Color'] = np.where(cat['Color'].str.contains(\"White/Yellow\") ,\"Buff\", cat['Color'])\n",
        "cat['Color'] = np.where(cat['Color'].str.contains(\"Black Smoke\") ,\"Black Smoke\", cat['Color'])\n",
        "cat['Color'] = np.where(cat['Color'].str.contains(\"Silver Tabby\") ,\"Silver Tabby\", cat['Color'])\n",
        "cat['Color'] = np.where(cat['Color'].str.contains(\"Gray Tabby\") ,\"Gray Tabby\", cat['Color'])\n",
        "cat['Color'] = np.where(cat['Color'].str.contains(\"Black Tabby\") ,\"Black Tabby\", cat['Color'])\n",
        "cat['Color'] = np.where(cat['Color'].str.contains(\"White/Gray\") ,\"Gray/White\", cat['Color'])\n",
        "#Test data\n",
        "testcat['Color'] = np.where(testcat['Color'].str.contains(\"rown\") ,\"Brown\", testcat['Color'])\n",
        "testcat['Color'] = np.where(testcat['Color'].str.contains(\"Tortie\") ,\"Toritie\", testcat['Color']) \n",
        "testcat['Color'] = np.where(testcat['Color'].str.contains(\"Torbie\") ,\"Toribie\", testcat['Color']) \n",
        "testcat['Color'] = np.where(testcat['Color'].str.contains(\"ream\") ,\"Buff\", testcat['Color']) \n",
        "testcat['Color'] = np.where(testcat['Color'].str.contains(\"Tan\") ,\"Buff\", testcat['Color'])\n",
        "testcat['Color'] = np.where(testcat['Color'].str.contains(\"Buff\") ,\"Buff\", testcat['Color'])\n",
        "testcat['Color'] = np.where(testcat['Color'].str.contains(\"hocolate\") ,\"Brown\", testcat['Color'])\n",
        "testcat['Color'] = np.where(testcat['Color'].str.contains(\"lue\") ,\"Blue\", testcat['Color'])\n",
        "testcat['Color'] = np.where(testcat['Color'].str.contains(\"Point\") ,\"Color Point\", testcat['Color'])\n",
        "testcat['Color'] = np.where(testcat['Color'].str.contains(\"Calico\") ,\"Calico\", testcat['Color'])\n",
        "testcat['Color'] = np.where(testcat['Color'].str.contains(\"Tricolor\") ,\"Calico\", testcat['Color'])\n",
        "testcat['Color'] = np.where(testcat['Color'].str.contains(\"range\") ,\"Orange\", testcat['Color'])\n",
        "testcat['Color'] = np.where(testcat['Color'].str.contains(\"Black/Black\") ,\"Black\", testcat['Color'])\n",
        "testcat['Color'] = np.where(testcat['Color'].str.contains(\"White/Black\") ,\"Black/White\", testcat['Color'])\n",
        "testcat['Color'] = np.where(testcat['Color'].str.contains(\"White/White\") ,\"White\", testcat['Color'])\n",
        "testcat['Color'] = np.where(testcat['Color'].str.contains(\"White/Yellow\") ,\"Buff\", testcat['Color'])\n",
        "testcat['Color'] = np.where(testcat['Color'].str.contains(\"Black Smoke\") ,\"Black Smoke\", testcat['Color'])\n",
        "testcat['Color'] = np.where(testcat['Color'].str.contains(\"Silver Tabby\") ,\"Silver Tabby\", testcat['Color'])\n",
        "testcat['Color'] = np.where(testcat['Color'].str.contains(\"Gray Tabby\") ,\"Gray Tabby\", testcat['Color'])\n",
        "testcat['Color'] = np.where(testcat['Color'].str.contains(\"Black Tabby\") ,\"Black Tabby\", testcat['Color'])\n",
        "testcat['Color'] = np.where(testcat['Color'].str.contains(\"White/Gray\") ,\"Gray/White\", testcat['Color'])\n",
        "\n",
        "cat['Color'].unique()"
      ],
      "execution_count": null,
      "outputs": [
        {
          "output_type": "execute_result",
          "data": {
            "text/plain": [
              "array(['Buff', 'Blue', 'Orange', 'Brown', 'White', 'Calico', 'Toribie',\n",
              "       'Black/White', 'Black', 'Toritie', 'Color Point', 'Black Tabby',\n",
              "       'Gray Tabby', 'Black Smoke', 'Gray/White', 'Silver Tabby',\n",
              "       'Agouti', 'Gray', 'Silver', 'Black/Silver'], dtype=object)"
            ]
          },
          "metadata": {
            "tags": []
          },
          "execution_count": 16
        }
      ]
    },
    {
      "cell_type": "markdown",
      "metadata": {
        "id": "ttOZKLxLMEji",
        "colab_type": "text"
      },
      "source": [
        "In order to reduce number of unique values in Color column, alike colors are grouped together."
      ]
    },
    {
      "cell_type": "code",
      "metadata": {
        "id": "w4dSBS6Kfdgg",
        "colab_type": "code",
        "colab": {
          "base_uri": "https://localhost:8080/",
          "height": 379
        },
        "outputId": "a8dcfd10-6cb2-4dda-b2f8-d03b3f1eeca5"
      },
      "source": [
        "ax = adopted['SexuponOutcome'].value_counts().plot(kind='bar',title = \"Adopted Cats' Sex Type\")\n",
        "ax.set_ylabel(\"Number of Cats\")\n",
        "ax.set_xlabel(\"Sex Upon Outcome\")"
      ],
      "execution_count": null,
      "outputs": [
        {
          "output_type": "execute_result",
          "data": {
            "text/plain": [
              "Text(0.5, 0, 'Sex Upon Outcome')"
            ]
          },
          "metadata": {
            "tags": []
          },
          "execution_count": 18
        },
        {
          "output_type": "display_data",
          "data": {
            "image/png": "[encoded data removed]",
            "text/plain": [
              "<Figure size 432x288 with 1 Axes>"
            ]
          },
          "metadata": {
            "tags": [],
            "needs_background": "light"
          }
        }
      ]
    },
    {
      "cell_type": "code",
      "metadata": {
        "id": "XPCL70s2f_tz",
        "colab_type": "code",
        "colab": {
          "base_uri": "https://localhost:8080/",
          "height": 102
        },
        "outputId": "0e34b975-9331-4d02-ec7e-fec078c3bb4b"
      },
      "source": [
        "print(\" Mean Age Adopted Cats: \", adopted['AgeuponOutcome'].mean(), '\\n', \"Mean Age Transfer Cats: \",  transfer['AgeuponOutcome'].mean(), '\\n', \"Mean Age Returned to Owner Cats: \", owner['AgeuponOutcome'].mean(), '\\n', \"Mean Age Euthanized Cats: \", eutha['AgeuponOutcome'].mean(), '\\n', \"mean Age Died Cats\", diedcat['AgeuponOutcome'].mean())"
      ],
      "execution_count": null,
      "outputs": [
        {
          "output_type": "stream",
          "text": [
            " Mean Age Adopted Cats:  425.80093539900616 \n",
            " Mean Age Transfer Cats:  410.21318681318684 \n",
            " Mean Age Returned to Owner Cats:  1438.1802030456852 \n",
            " Mean Age Euthanized Cats:  1317.514344262295 \n",
            " mean Age Died Cats 1438.1802030456852\n"
          ],
          "name": "stdout"
        }
      ]
    },
    {
      "cell_type": "markdown",
      "metadata": {
        "id": "EcS96NzOi2aM",
        "colab_type": "text"
      },
      "source": [
        "Cats who were spayed and neutered were much more likley to have been adopted than ones who were not. Ages' of cats that were adopted or transfered were much lower than those with other outcomes."
      ]
    },
    {
      "cell_type": "markdown",
      "metadata": {
        "id": "jJnB69xeun2x",
        "colab_type": "text"
      },
      "source": [
        "## Dog EDA"
      ]
    },
    {
      "cell_type": "code",
      "metadata": {
        "id": "fl6y1imIQ9Hi",
        "colab_type": "code",
        "colab": {
          "base_uri": "https://localhost:8080/",
          "height": 159
        },
        "outputId": "a1a79873-0a36-462e-eba7-0907af3dea03"
      },
      "source": [
        "df.nunique()\n"
      ],
      "execution_count": null,
      "outputs": [
        {
          "output_type": "execute_result",
          "data": {
            "text/plain": [
              "DateTime          18255\n",
              "OutcomeType           5\n",
              "AnimalType            2\n",
              "SexuponOutcome        4\n",
              "AgeuponOutcome       42\n",
              "Breed              1248\n",
              "Color               332\n",
              "dtype: int64"
            ]
          },
          "metadata": {
            "tags": []
          },
          "execution_count": 45
        }
      ]
    },
    {
      "cell_type": "code",
      "metadata": {
        "id": "EuEu5BDKRQXl",
        "colab_type": "code",
        "colab": {
          "base_uri": "https://localhost:8080/",
          "height": 52
        },
        "outputId": "62df3b06-e88f-42a2-da06-6443c489c68b"
      },
      "source": [
        "df['OutcomeType'].unique()"
      ],
      "execution_count": null,
      "outputs": [
        {
          "output_type": "execute_result",
          "data": {
            "text/plain": [
              "array(['Return_to_owner', 'Euthanasia', 'Adoption', 'Transfer', 'Died'],\n",
              "      dtype=object)"
            ]
          },
          "metadata": {
            "tags": []
          },
          "execution_count": 46
        }
      ]
    },
    {
      "cell_type": "code",
      "metadata": {
        "id": "lB6PXvXPSrRB",
        "colab_type": "code",
        "colab": {
          "base_uri": "https://localhost:8080/",
          "height": 200
        },
        "outputId": "d8f431dc-b7a8-4b91-993c-9255ad8bc7f5"
      },
      "source": [
        "dog = df[df.AnimalType == \"Dog\"] #Remove Cat\n",
        "testdog = test[test.AnimalType == \"Dog\"]\n",
        "dog.head()"
      ],
      "execution_count": null,
      "outputs": [
        {
          "output_type": "execute_result",
          "data": {
            "text/html": [
              "<div>\n",
              "<style scoped>\n",
              "    .dataframe tbody tr th:only-of-type {\n",
              "        vertical-align: middle;\n",
              "    }\n",
              "\n",
              "    .dataframe tbody tr th {\n",
              "        vertical-align: top;\n",
              "    }\n",
              "\n",
              "    .dataframe thead th {\n",
              "        text-align: right;\n",
              "    }\n",
              "</style>\n",
              "<table border=\"1\" class=\"dataframe\">\n",
              "  <thead>\n",
              "    <tr style=\"text-align: right;\">\n",
              "      <th></th>\n",
              "      <th>OutcomeType</th>\n",
              "      <th>AnimalType</th>\n",
              "      <th>SexuponOutcome</th>\n",
              "      <th>AgeuponOutcome</th>\n",
              "      <th>Breed</th>\n",
              "      <th>Color</th>\n",
              "      <th>Hour</th>\n",
              "      <th>Day</th>\n",
              "      <th>Month</th>\n",
              "      <th>Year</th>\n",
              "    </tr>\n",
              "  </thead>\n",
              "  <tbody>\n",
              "    <tr>\n",
              "      <th>0</th>\n",
              "      <td>Return_to_owner</td>\n",
              "      <td>Dog</td>\n",
              "      <td>Neutered Male</td>\n",
              "      <td>365</td>\n",
              "      <td>Shetland Sheepdog Mix</td>\n",
              "      <td>Brown/White</td>\n",
              "      <td>18</td>\n",
              "      <td>12</td>\n",
              "      <td>2</td>\n",
              "      <td>2014</td>\n",
              "    </tr>\n",
              "    <tr>\n",
              "      <th>2</th>\n",
              "      <td>Adoption</td>\n",
              "      <td>Dog</td>\n",
              "      <td>Neutered Male</td>\n",
              "      <td>730</td>\n",
              "      <td>Pit Bull Mix</td>\n",
              "      <td>Blue/White</td>\n",
              "      <td>12</td>\n",
              "      <td>31</td>\n",
              "      <td>1</td>\n",
              "      <td>2015</td>\n",
              "    </tr>\n",
              "    <tr>\n",
              "      <th>4</th>\n",
              "      <td>Transfer</td>\n",
              "      <td>Dog</td>\n",
              "      <td>Neutered Male</td>\n",
              "      <td>730</td>\n",
              "      <td>Lhasa Apso/Miniature Poodle</td>\n",
              "      <td>Tan</td>\n",
              "      <td>12</td>\n",
              "      <td>15</td>\n",
              "      <td>11</td>\n",
              "      <td>2013</td>\n",
              "    </tr>\n",
              "    <tr>\n",
              "      <th>5</th>\n",
              "      <td>Transfer</td>\n",
              "      <td>Dog</td>\n",
              "      <td>Intact Female</td>\n",
              "      <td>30</td>\n",
              "      <td>Cairn Terrier/Chihuahua Shorthair</td>\n",
              "      <td>Black/Tan</td>\n",
              "      <td>13</td>\n",
              "      <td>25</td>\n",
              "      <td>4</td>\n",
              "      <td>2014</td>\n",
              "    </tr>\n",
              "    <tr>\n",
              "      <th>8</th>\n",
              "      <td>Adoption</td>\n",
              "      <td>Dog</td>\n",
              "      <td>Spayed Female</td>\n",
              "      <td>150</td>\n",
              "      <td>American Pit Bull Terrier Mix</td>\n",
              "      <td>Red/White</td>\n",
              "      <td>17</td>\n",
              "      <td>4</td>\n",
              "      <td>2</td>\n",
              "      <td>2014</td>\n",
              "    </tr>\n",
              "  </tbody>\n",
              "</table>\n",
              "</div>"
            ],
            "text/plain": [
              "       OutcomeType AnimalType SexuponOutcome  ... Day Month  Year\n",
              "0  Return_to_owner        Dog  Neutered Male  ...  12     2  2014\n",
              "2         Adoption        Dog  Neutered Male  ...  31     1  2015\n",
              "4         Transfer        Dog  Neutered Male  ...  15    11  2013\n",
              "5         Transfer        Dog  Intact Female  ...  25     4  2014\n",
              "8         Adoption        Dog  Spayed Female  ...   4     2  2014\n",
              "\n",
              "[5 rows x 10 columns]"
            ]
          },
          "metadata": {
            "tags": []
          },
          "execution_count": 12
        }
      ]
    },
    {
      "cell_type": "code",
      "metadata": {
        "id": "YKgNp_fFp8_y",
        "colab_type": "code",
        "colab": {
          "base_uri": "https://localhost:8080/",
          "height": 212
        },
        "outputId": "2d25f7f6-53cb-4983-9905-d03cb437ab12"
      },
      "source": [
        "dog.isnull().sum()"
      ],
      "execution_count": null,
      "outputs": [
        {
          "output_type": "execute_result",
          "data": {
            "text/plain": [
              "OutcomeType       0\n",
              "AnimalType        0\n",
              "SexuponOutcome    0\n",
              "AgeuponOutcome    0\n",
              "Breed             0\n",
              "Color             0\n",
              "Hour              0\n",
              "Day               0\n",
              "Month             0\n",
              "Year              0\n",
              "dtype: int64"
            ]
          },
          "metadata": {
            "tags": []
          },
          "execution_count": 105
        }
      ]
    },
    {
      "cell_type": "code",
      "metadata": {
        "id": "Gxfb4G1Pr6HR",
        "colab_type": "code",
        "colab": {
          "base_uri": "https://localhost:8080/",
          "height": 369
        },
        "outputId": "270a19b1-64d5-45ec-8eed-bfbe4b24894b"
      },
      "source": [
        "ax = dog['OutcomeType'].value_counts().plot(kind='bar', title = \"Dog Outcomes\")\n",
        "ax.set_ylabel(\"Number of Dogs\")\n",
        "ax.set_xlabel(\"Possible Outcomes\")\n",
        "returnOwner = dog[dog.OutcomeType == \"Return_to_owner\"]\n",
        "euthanasia = dog[dog.OutcomeType == \"Euthanasia\"]\n",
        "adoption = dog[dog.OutcomeType == \"Adoption\"]\n",
        "transfer = dog[dog.OutcomeType == \"Transfer\"]\n",
        "died = dog[dog.OutcomeType == \"Died\"]"
      ],
      "execution_count": null,
      "outputs": [
        {
          "output_type": "display_data",
          "data": {
            "image/png": "[encoded data removed]",
            "text/plain": [
              "<Figure size 432x288 with 1 Axes>"
            ]
          },
          "metadata": {
            "tags": [],
            "needs_background": "light"
          }
        }
      ]
    },
    {
      "cell_type": "markdown",
      "metadata": {
        "id": "9Hond9HjwJR4",
        "colab_type": "text"
      },
      "source": [
        "For the dogs' outcomes, the first is adoption, second is return to the owner, third is transfer, fourth is euthanasis, and then died."
      ]
    },
    {
      "cell_type": "code",
      "metadata": {
        "id": "ndnw0arKgs9V",
        "colab_type": "code",
        "colab": {
          "base_uri": "https://localhost:8080/",
          "height": 312
        },
        "outputId": "1c4ce139-9427-4952-fe69-261c9ba00e0d"
      },
      "source": [
        "dog.AgeuponOutcome.plot(kind='hist')\n",
        "plt.title('Distribution of Dogs Age')\n",
        "plt.xlabel('Dogs Age (Day)')\n",
        "plt.ylabel('Number of Dogs')"
      ],
      "execution_count": null,
      "outputs": [
        {
          "output_type": "execute_result",
          "data": {
            "text/plain": [
              "Text(0, 0.5, 'Number of Dogs')"
            ]
          },
          "metadata": {
            "tags": []
          },
          "execution_count": 8
        },
        {
          "output_type": "display_data",
          "data": {
            "image/png": "[encoded data removed]",
            "text/plain": [
              "<Figure size 432x288 with 1 Axes>"
            ]
          },
          "metadata": {
            "tags": [],
            "needs_background": "light"
          }
        }
      ]
    },
    {
      "cell_type": "code",
      "metadata": {
        "id": "bN7iGGLpxKG-",
        "colab_type": "code",
        "colab": {
          "base_uri": "https://localhost:8080/",
          "height": 106
        },
        "outputId": "c825be94-10ba-43b2-92c9-61c0ad32e5f3"
      },
      "source": [
        "print(\" Mean Age Adopted Dogs: \", adoption['AgeuponOutcome'].mean(), '\\n', \"Mean Age Transfer Dogs: \",  transfer['AgeuponOutcome'].mean(), '\\n', \"Mean Age Returned to Owner Dogs: \", returnOwner['AgeuponOutcome'].mean(), '\\n', \"Mean Age Euthanized Dogs: \", euthanasia['AgeuponOutcome'].mean(), '\\n', \"mean Age Died Dogs\", died['AgeuponOutcome'].mean())"
      ],
      "execution_count": null,
      "outputs": [
        {
          "output_type": "stream",
          "text": [
            " Mean Age Adopted Dogs:  713.3467587265055 \n",
            " Mean Age Transfer Dogs:  816.427930813581 \n",
            " Mean Age Returned to Owner Dogs:  1503.5309474919331 \n",
            " Mean Age Euthanized Dogs:  1580.1450151057402 \n",
            " mean Age Died Dogs 1090.0526315789473\n"
          ],
          "name": "stdout"
        }
      ]
    },
    {
      "cell_type": "code",
      "metadata": {
        "id": "VckoW8Kr3eej",
        "colab_type": "code",
        "colab": {
          "base_uri": "https://localhost:8080/",
          "height": 379
        },
        "outputId": "eb7f4641-3e81-4a3f-ae9a-167f2db384d0"
      },
      "source": [
        "ax = dog['SexuponOutcome'].value_counts().plot(kind='bar', title = \"Dogs' Sex Type\")\n",
        "ax.set_ylabel(\"Number of Dogs\")\n",
        "ax.set_xlabel(\"Sex Upon Outcome\")"
      ],
      "execution_count": null,
      "outputs": [
        {
          "output_type": "execute_result",
          "data": {
            "text/plain": [
              "Text(0.5, 0, 'Sex Upon Outcome')"
            ]
          },
          "metadata": {
            "tags": []
          },
          "execution_count": 21
        },
        {
          "output_type": "display_data",
          "data": {
            "image/png": "[encoded data removed]",
            "text/plain": [
              "<Figure size 432x288 with 1 Axes>"
            ]
          },
          "metadata": {
            "tags": [],
            "needs_background": "light"
          }
        }
      ]
    },
    {
      "cell_type": "markdown",
      "metadata": {
        "id": "ODEqnPO24SQa",
        "colab_type": "text"
      },
      "source": [
        "There are much more dogs who are desexualized."
      ]
    },
    {
      "cell_type": "code",
      "metadata": {
        "id": "Wp1toLjTwjp6",
        "colab_type": "code",
        "colab": {
          "base_uri": "https://localhost:8080/",
          "height": 379
        },
        "outputId": "00fba6ad-6927-4d8a-d40c-9581e7cd10b7"
      },
      "source": [
        "ax = adoption['SexuponOutcome'].value_counts().plot(kind='bar', title = \"Adopted Dogs' Sex\")\n",
        "ax.set_ylabel(\"Number of Dogs\")\n",
        "ax.set_xlabel(\"Sex Upon Outcome\")"
      ],
      "execution_count": null,
      "outputs": [
        {
          "output_type": "execute_result",
          "data": {
            "text/plain": [
              "Text(0.5, 0, 'Sex Upon Outcome')"
            ]
          },
          "metadata": {
            "tags": []
          },
          "execution_count": 22
        },
        {
          "output_type": "display_data",
          "data": {
            "image/png": "[encoded data removed]",
            "text/plain": [
              "<Figure size 432x288 with 1 Axes>"
            ]
          },
          "metadata": {
            "tags": [],
            "needs_background": "light"
          }
        }
      ]
    },
    {
      "cell_type": "markdown",
      "metadata": {
        "id": "0NxETzoSxy85",
        "colab_type": "text"
      },
      "source": [
        "Almost \"Neutered Male\" and \"Spayed Female\" are adopted. So, to be adopted, dogs should be desexualized."
      ]
    },
    {
      "cell_type": "code",
      "metadata": {
        "id": "uYbt8K0g23eW",
        "colab_type": "code",
        "colab": {
          "base_uri": "https://localhost:8080/",
          "height": 379
        },
        "outputId": "c8a52790-a8c0-4473-cb74-3ed13a06737f"
      },
      "source": [
        "ax = returnOwner['SexuponOutcome'].value_counts().plot(kind='bar', title = \"Dogs' Sex for Returning to Owner\")\n",
        "ax.set_ylabel(\"Number of Dogs\")\n",
        "ax.set_xlabel(\"Sex Upon Outcome\")"
      ],
      "execution_count": null,
      "outputs": [
        {
          "output_type": "execute_result",
          "data": {
            "text/plain": [
              "Text(0.5, 0, 'Sex Upon Outcome')"
            ]
          },
          "metadata": {
            "tags": []
          },
          "execution_count": 23
        },
        {
          "output_type": "display_data",
          "data": {
            "image/png": "[encoded data removed]",
            "text/plain": [
              "<Figure size 432x288 with 1 Axes>"
            ]
          },
          "metadata": {
            "tags": [],
            "needs_background": "light"
          }
        }
      ]
    },
    {
      "cell_type": "markdown",
      "metadata": {
        "id": "B544OD-F4o8r",
        "colab_type": "text"
      },
      "source": [
        "I assume that returning to owner is not related with sex. The desexualized dogs is more than dogs who have intact sex for dogs returning to owner, but I think this is because the total number of desexualized dogs are much more than dogs who have intact sex."
      ]
    },
    {
      "cell_type": "code",
      "metadata": {
        "id": "zAC6bkAh3ZWJ",
        "colab_type": "code",
        "colab": {
          "base_uri": "https://localhost:8080/",
          "height": 379
        },
        "outputId": "077d8d7d-ff40-47c5-f1d9-52604096b1c0"
      },
      "source": [
        "ax = transfer['SexuponOutcome'].value_counts().plot(kind='bar', title = \"Dogs' Sex for Transfer\")\n",
        "ax.set_ylabel(\"Number of Dogs\")\n",
        "ax.set_xlabel(\"Sex Upon Outcome\")"
      ],
      "execution_count": null,
      "outputs": [
        {
          "output_type": "execute_result",
          "data": {
            "text/plain": [
              "Text(0.5, 0, 'Sex Upon Outcome')"
            ]
          },
          "metadata": {
            "tags": []
          },
          "execution_count": 24
        },
        {
          "output_type": "display_data",
          "data": {
            "image/png": "[encoded data removed]",
            "text/plain": [
              "<Figure size 432x288 with 1 Axes>"
            ]
          },
          "metadata": {
            "tags": [],
            "needs_background": "light"
          }
        }
      ]
    },
    {
      "cell_type": "markdown",
      "metadata": {
        "id": "f03_goaH-xn5",
        "colab_type": "text"
      },
      "source": [
        "For the outcome of \"Transfer,\" the desexualized dogs are little more than inact sex dogs, but almost similar."
      ]
    },
    {
      "cell_type": "code",
      "metadata": {
        "id": "VXZsa5fe5r5t",
        "colab_type": "code",
        "colab": {
          "base_uri": "https://localhost:8080/",
          "height": 379
        },
        "outputId": "499f410a-e343-41c9-bef2-e6d22961c384"
      },
      "source": [
        "ax = euthanasia['SexuponOutcome'].value_counts().plot(kind='bar', title = \"Dogs' Sex for Euthanasia\")\n",
        "ax.set_ylabel(\"Number of Dogs\")\n",
        "ax.set_xlabel(\"Sex Upon Outcome\")"
      ],
      "execution_count": null,
      "outputs": [
        {
          "output_type": "execute_result",
          "data": {
            "text/plain": [
              "Text(0.5, 0, 'Sex Upon Outcome')"
            ]
          },
          "metadata": {
            "tags": []
          },
          "execution_count": 25
        },
        {
          "output_type": "display_data",
          "data": {
            "image/png": "[encoded data removed]",
            "text/plain": [
              "<Figure size 432x288 with 1 Axes>"
            ]
          },
          "metadata": {
            "tags": [],
            "needs_background": "light"
          }
        }
      ]
    },
    {
      "cell_type": "markdown",
      "metadata": {
        "id": "5uDfMqPtD6Td",
        "colab_type": "text"
      },
      "source": [
        "The most dogs' sex that administer euthansia is \"Intact Male\", second is \"Neutered Male\", third is \"Intact Female\" and then \"Spayed Female.\" For this data, I assume that male dogs more get euthanasia than female dogs because the male dog's total number is more than female's. Also, intact sex dogs little more get euthanasia than desexualized dogs."
      ]
    },
    {
      "cell_type": "code",
      "metadata": {
        "id": "oSw9CgHnGhOQ",
        "colab_type": "code",
        "colab": {
          "base_uri": "https://localhost:8080/",
          "height": 379
        },
        "outputId": "2d4dcb68-f786-474c-a781-4f928cd63d85"
      },
      "source": [
        "ax = died['SexuponOutcome'].value_counts().plot(kind='bar', title = \"Dogs' Sex for Died\")\n",
        "ax.set_ylabel(\"Number of Dogs\")\n",
        "ax.set_xlabel(\"Sex Upon Outcome\")"
      ],
      "execution_count": null,
      "outputs": [
        {
          "output_type": "execute_result",
          "data": {
            "text/plain": [
              "Text(0.5, 0, 'Sex Upon Outcome')"
            ]
          },
          "metadata": {
            "tags": []
          },
          "execution_count": 26
        },
        {
          "output_type": "display_data",
          "data": {
            "image/png": "[encoded data removed]",
            "text/plain": [
              "<Figure size 432x288 with 1 Axes>"
            ]
          },
          "metadata": {
            "tags": [],
            "needs_background": "light"
          }
        }
      ]
    },
    {
      "cell_type": "markdown",
      "metadata": {
        "id": "7IEpfKV0GxVy",
        "colab_type": "text"
      },
      "source": [
        "The intact sex dogs more died than desexualized dogs. I assume that this is because there are diseases that are more likely to affect intact sex dogs, especially females."
      ]
    },
    {
      "cell_type": "code",
      "metadata": {
        "id": "TNTQZ_WSt6AO",
        "colab_type": "code",
        "colab": {
          "base_uri": "https://localhost:8080/",
          "height": 315
        },
        "outputId": "5f5859d5-5bae-435a-9065-0c5a5517a86c"
      },
      "source": [
        "ax = dog['Hour'].value_counts().plot(kind='bar', title = \"Dogs Time of Day for Outcome\")\n",
        "ax.set_ylabel(\"Number of Dogs\")\n",
        "ax.set_xlabel(\"Hour\")"
      ],
      "execution_count": null,
      "outputs": [
        {
          "output_type": "execute_result",
          "data": {
            "text/plain": [
              "Text(0.5, 0, 'Hour')"
            ]
          },
          "metadata": {
            "tags": []
          },
          "execution_count": 27
        },
        {
          "output_type": "display_data",
          "data": {
            "image/png": "[encoded data removed]",
            "text/plain": [
              "<Figure size 432x288 with 1 Axes>"
            ]
          },
          "metadata": {
            "tags": [],
            "needs_background": "light"
          }
        }
      ]
    },
    {
      "cell_type": "code",
      "metadata": {
        "id": "DqxYFoCWuNhN",
        "colab_type": "code",
        "colab": {
          "base_uri": "https://localhost:8080/",
          "height": 315
        },
        "outputId": "27957f52-794d-4c81-f963-ea977a5be0c6"
      },
      "source": [
        "ax = returnOwner['Hour'].value_counts().plot(kind='bar', title = \"Dogs Time of Day for Returning to Owner\")\n",
        "ax.set_ylabel(\"Number of Dogs\")\n",
        "ax.set_xlabel(\"Hour\")"
      ],
      "execution_count": null,
      "outputs": [
        {
          "output_type": "execute_result",
          "data": {
            "text/plain": [
              "Text(0.5, 0, 'Hour')"
            ]
          },
          "metadata": {
            "tags": []
          },
          "execution_count": 33
        },
        {
          "output_type": "display_data",
          "data": {
            "image/png": "[encoded data removed]",
            "text/plain": [
              "<Figure size 432x288 with 1 Axes>"
            ]
          },
          "metadata": {
            "tags": [],
            "needs_background": "light"
          }
        }
      ]
    },
    {
      "cell_type": "code",
      "metadata": {
        "id": "4Mt3MPTBtlLb",
        "colab_type": "code",
        "colab": {
          "base_uri": "https://localhost:8080/",
          "height": 315
        },
        "outputId": "4d1d5319-f00c-41bb-839a-5dc1121848ea"
      },
      "source": [
        "ax = adoption['Hour'].value_counts().plot(kind='bar', title = \"Dogs Time of Day for Adoption Outcome\")\n",
        "ax.set_ylabel(\"Number of Dogs\")\n",
        "ax.set_xlabel(\"Hour\")"
      ],
      "execution_count": null,
      "outputs": [
        {
          "output_type": "execute_result",
          "data": {
            "text/plain": [
              "Text(0.5, 0, 'Hour')"
            ]
          },
          "metadata": {
            "tags": []
          },
          "execution_count": 34
        },
        {
          "output_type": "display_data",
          "data": {
            "image/png": "[encoded data removed]",
            "text/plain": [
              "<Figure size 432x288 with 1 Axes>"
            ]
          },
          "metadata": {
            "tags": [],
            "needs_background": "light"
          }
        }
      ]
    },
    {
      "cell_type": "code",
      "metadata": {
        "id": "aOtq87ertvpN",
        "colab_type": "code",
        "colab": {
          "base_uri": "https://localhost:8080/",
          "height": 315
        },
        "outputId": "076b31f5-77d3-4df6-b324-fb5a5eacbc65"
      },
      "source": [
        "ax = transfer['Hour'].value_counts().plot(kind='bar', title = \"Dogs Time of Day for Transfer\")\n",
        "ax.set_ylabel(\"Number of Dogs\")\n",
        "ax.set_xlabel(\"Hour\")"
      ],
      "execution_count": null,
      "outputs": [
        {
          "output_type": "execute_result",
          "data": {
            "text/plain": [
              "Text(0.5, 0, 'Hour')"
            ]
          },
          "metadata": {
            "tags": []
          },
          "execution_count": 35
        },
        {
          "output_type": "display_data",
          "data": {
            "image/png": "[encoded data removed]",
            "text/plain": [
              "<Figure size 432x288 with 1 Axes>"
            ]
          },
          "metadata": {
            "tags": [],
            "needs_background": "light"
          }
        }
      ]
    },
    {
      "cell_type": "code",
      "metadata": {
        "id": "22UjGkBEuk2f",
        "colab_type": "code",
        "colab": {
          "base_uri": "https://localhost:8080/",
          "height": 315
        },
        "outputId": "9a1eeb0c-0388-4d59-d62f-d251867359c9"
      },
      "source": [
        "ax = euthanasia['Hour'].value_counts().plot(kind='bar', title = \"Dogs Time of Day for Euthanasia\")\n",
        "ax.set_ylabel(\"Number of Dogs\")\n",
        "ax.set_xlabel(\"Hour\")"
      ],
      "execution_count": null,
      "outputs": [
        {
          "output_type": "execute_result",
          "data": {
            "text/plain": [
              "Text(0.5, 0, 'Hour')"
            ]
          },
          "metadata": {
            "tags": []
          },
          "execution_count": 36
        },
        {
          "output_type": "display_data",
          "data": {
            "image/png": "[encoded data removed]",
            "text/plain": [
              "<Figure size 432x288 with 1 Axes>"
            ]
          },
          "metadata": {
            "tags": [],
            "needs_background": "light"
          }
        }
      ]
    },
    {
      "cell_type": "code",
      "metadata": {
        "id": "JR9JQdaeuzLu",
        "colab_type": "code",
        "colab": {
          "base_uri": "https://localhost:8080/",
          "height": 315
        },
        "outputId": "a8c2e9b0-c9b4-4d36-88bd-be404250b12d"
      },
      "source": [
        "ax = died['Hour'].value_counts().plot(kind='bar', title = \"Dogs Time of Day for Died\")\n",
        "ax.set_ylabel(\"Number of Dogs\")\n",
        "ax.set_xlabel(\"Hour\")"
      ],
      "execution_count": null,
      "outputs": [
        {
          "output_type": "execute_result",
          "data": {
            "text/plain": [
              "Text(0.5, 0, 'Hour')"
            ]
          },
          "metadata": {
            "tags": []
          },
          "execution_count": 37
        },
        {
          "output_type": "display_data",
          "data": {
            "image/png": "[encoded data removed]",
            "text/plain": [
              "<Figure size 432x288 with 1 Axes>"
            ]
          },
          "metadata": {
            "tags": [],
            "needs_background": "light"
          }
        }
      ]
    },
    {
      "cell_type": "code",
      "metadata": {
        "id": "xkgfBnarsA77",
        "colab_type": "code",
        "colab": {
          "base_uri": "https://localhost:8080/",
          "height": 35
        },
        "outputId": "ccd1e29f-d879-421c-94f1-6ffc4a2b9581"
      },
      "source": [
        "dog['Breed'].unique()"
      ],
      "execution_count": null,
      "outputs": [
        {
          "output_type": "execute_result",
          "data": {
            "text/plain": [
              "array(['Mix', 'Purebred'], dtype=object)"
            ]
          },
          "metadata": {
            "tags": []
          },
          "execution_count": 15
        }
      ]
    },
    {
      "cell_type": "code",
      "metadata": {
        "id": "fNbvRdRy0gDE",
        "colab_type": "code",
        "colab": {}
      },
      "source": [
        "dog['Breed'] = np.where(dog['Breed'].str.contains(\"Mix\"),\"Mix\", dog['Breed']) \n",
        "dog['Breed'] = np.where(dog['Breed'].str.contains(\"Mix\") , dog['Breed'], \"Purebred\")\n",
        "#Test Data\n",
        "testdog['Breed'] = np.where(testdog['Breed'].str.contains(\"Mix\"),\"Mix\", testdog['Breed']) \n",
        "testdog['Breed'] = np.where(testdog['Breed'].str.contains(\"Mix\") , testdog['Breed'], \"Purebred\")\n",
        "dog['Breed'].unique() "
      ],
      "execution_count": null,
      "outputs": []
    },
    {
      "cell_type": "code",
      "metadata": {
        "id": "v9lDknZa-cpR",
        "colab_type": "code",
        "colab": {
          "base_uri": "https://localhost:8080/",
          "height": 316
        },
        "outputId": "4ed02daf-05f1-467e-8726-c19efa5910ff"
      },
      "source": [
        "ax = dog['Breed'].value_counts().plot(kind='bar', title = \"Breed\")"
      ],
      "execution_count": null,
      "outputs": [
        {
          "output_type": "display_data",
          "data": {
            "image/png": "[encoded data removed]",
            "text/plain": [
              "<Figure size 432x288 with 1 Axes>"
            ]
          },
          "metadata": {
            "tags": [],
            "needs_background": "light"
          }
        }
      ]
    },
    {
      "cell_type": "code",
      "metadata": {
        "id": "1oSigTZh9o8v",
        "colab_type": "code",
        "colab": {
          "base_uri": "https://localhost:8080/",
          "height": 347
        },
        "outputId": "b5533210-b79d-4213-f0bd-ce1a6b1fcf00"
      },
      "source": [
        "ax = adoption['Breed'].value_counts().plot(kind='bar', title = \"Dogs Breed for Adoption\")\n",
        "ax.set_ylabel(\"Number of Dogs\")\n",
        "ax.set_xlabel(\"Breed\")"
      ],
      "execution_count": null,
      "outputs": [
        {
          "output_type": "execute_result",
          "data": {
            "text/plain": [
              "Text(0.5, 0, 'Breed')"
            ]
          },
          "metadata": {
            "tags": []
          },
          "execution_count": 19
        },
        {
          "output_type": "display_data",
          "data": {
            "image/png": "[encoded data removed]",
            "text/plain": [
              "<Figure size 432x288 with 1 Axes>"
            ]
          },
          "metadata": {
            "tags": [],
            "needs_background": "light"
          }
        }
      ]
    },
    {
      "cell_type": "markdown",
      "metadata": {
        "id": "4ftdhnjO1EIB",
        "colab_type": "text"
      },
      "source": [
        "There are too many types of breed of dogs, so I reduce the types of breed to \"Mix\" and \"Purebred\"."
      ]
    },
    {
      "cell_type": "code",
      "metadata": {
        "id": "2Xm4CdSI1O5m",
        "colab_type": "code",
        "colab": {
          "base_uri": "https://localhost:8080/",
          "height": 51
        },
        "outputId": "aa491234-f2c7-4e39-d02d-bfa329c16f4a"
      },
      "source": [
        "dog['Color'] = np.where(dog['Color'].str.contains(\"White/\") ,\"White Mix\", dog['Color'])\n",
        "dog['Color'] = np.where(dog['Color'].str.contains(\"Black/\") ,\"Black Mix\", dog['Color']) \n",
        "dog['Color'] = np.where(dog['Color'].str.contains(\"Brown/\") ,\"Brown\", dog['Color']) \n",
        "dog['Color'] = np.where(dog['Color'].str.contains(\"Blue/\") ,\"Blue\", dog['Color']) \n",
        "dog['Color'] = np.where(dog['Color'].str.contains(\"Blue Tick/\") ,\"Blue\", dog['Color']) \n",
        "dog['Color'] = np.where(dog['Color'].str.contains(\"/Blue\") ,\"Blue\", dog['Color']) \n",
        "dog['Color'] = np.where(dog['Color'].str.contains(\"Tan/\") ,\"Buff\", dog['Color'])\n",
        "dog['Color'] = np.where(dog['Color'].str.contains(\"Red/\") ,\"Red\", dog['Color'])\n",
        "dog['Color'] = np.where(dog['Color'].str.contains(\"Brown Brindle/\") ,\"Brown\", dog['Color'])\n",
        "dog['Color'] = np.where(dog['Color'].str.contains(\"Chocolate/\") ,\"Brown\", dog['Color'])\n",
        "dog['Color'] = np.where(dog['Color'].str.contains(\"Gray/\") ,\"Gray\", dog['Color'])\n",
        "dog['Color'] = np.where(dog['Color'].str.contains(\"Yellow Brindle/\") ,\"Buff\", dog['Color'])\n",
        "dog['Color'] = np.where(dog['Color'].str.contains(\"Fawn/\") ,\"Buff\", dog['Color'])\n",
        "dog['Color'] = np.where(dog['Color'].str.contains(\"Red Tick/\") ,\"Red\", dog['Color'])\n",
        "dog['Color'] = np.where(dog['Color'].str.contains(\"Brown Merle/\") ,\"Brown\", dog['Color'])\n",
        "dog['Color'] = np.where(dog['Color'].str.contains(\"Brown Tiger/\") ,\"Brown\", dog['Color'])\n",
        "dog['Color'] = np.where(dog['Color'].str.contains(\"Brown Tiger\") ,\"Brown\", dog['Color'])\n",
        "dog['Color'] = np.where(dog['Color'].str.contains(\"Liver/\") ,\"Brown\", dog['Color'])\n",
        "dog['Color'] = np.where(dog['Color'].str.contains(\"Apricot/\") ,\"Orange\", dog['Color'])\n",
        "dog['Color'] = np.where(dog['Color'].str.contains(\"Red Merle/\") ,\"Red\", dog['Color'])\n",
        "dog['Color'] = np.where(dog['Color'].str.contains(\"Blue Merle/\") ,\"Blue\", dog['Color'])\n",
        "dog['Color'] = np.where(dog['Color'].str.contains(\"Buff/\") ,\"Buff\", dog['Color'])\n",
        "dog['Color'] = np.where(dog['Color'].str.contains(\"Sable/\") ,\"Sable\", dog['Color'])\n",
        "dog['Color'] = np.where(dog['Color'].str.contains(\"Blue Tiger/\") ,\"Blue\", dog['Color'])\n",
        "dog['Color'] = np.where(dog['Color'].str.contains(\"Yellow/\") ,\"Buff\", dog['Color'])\n",
        "dog['Color'] = np.where(dog['Color'].str.contains(\"Tricolor/\") ,\"Tricolor\", dog['Color'])\n",
        "dog['Color'] = np.where(dog['Color'].str.contains(\"Black Brindle/\") ,\"Black Mix\", dog['Color'])\n",
        "dog['Color'] = np.where(dog['Color'].str.contains(\"Silver/\") ,\"Gray\", dog['Color'])\n",
        "dog['Color'] = np.where(dog['Color'].str.contains(\"Cream/\") ,\"Buff\", dog['Color'])\n",
        "dog['Color'] = np.where(dog['Color'].str.contains(\"Gold/\") ,\"Buff\", dog['Color'])\n",
        "dog['Color'] = np.where(dog['Color'].str.contains(\"Orange/\") ,\"Orange\", dog['Color'])\n",
        "dog['Color'] = np.where(dog['Color'].str.contains(\"Black Smoke/\") ,\"Black Mix\", dog['Color'])\n",
        "dog['Color'] = np.where(dog['Color'].str.contains(\"Blue Smoke/\") ,\"Blue\", dog['Color'])\n",
        "dog['Color'] = np.where(dog['Color'].str.contains(\"Ruddy/\") ,\"Red\", dog['Color'])\n",
        "dog['Color'] = np.where(dog['Color'].str.contains(\"Liver Tick/\") ,\"Brown\", dog['Color'])\n",
        "dog['Color'] = np.where(dog['Color'].str.contains(\"Black Tiger/\") ,\"Black Mix\", dog['Color'])\n",
        "dog['Color'] = np.where(dog['Color'].str.contains(\"Tan\") ,\"Buff\", dog['Color'])\n",
        "dog['Color'] = np.where(dog['Color'].str.contains(\"Silver\") ,\"Gray\", dog['Color'])\n",
        "dog['Color'] = np.where(dog['Color'].str.contains(\"Yellow\") ,\"Buff\", dog['Color'])\n",
        "dog['Color'] = np.where(dog['Color'].str.contains(\"Brown\") ,\"Brown\", dog['Color'])\n",
        "dog['Color'] = np.where(dog['Color'].str.contains(\"Blue\") ,\"Blue\", dog['Color'])\n",
        "dog['Color'] = np.where(dog['Color'].str.contains(\"Cream\") ,\"Buff\", dog['Color'])\n",
        "dog['Color'] = np.where(dog['Color'].str.contains(\"Chocolate\") ,\"Brown\", dog['Color'])\n",
        "dog['Color'] = np.where(dog['Color'].str.contains(\"Fawn\") ,\"Buff\", dog['Color'])\n",
        "dog['Color'] = np.where(dog['Color'].str.contains(\"Apricot\") ,\"Orange\", dog['Color'])\n",
        "dog['Color'] = np.where(dog['Color'].str.contains(\"Gold\") ,\"Buff\", dog['Color'])\n",
        "dog['Color'] = np.where(dog['Color'].str.contains(\"Red\") ,\"Red\", dog['Color'])\n",
        "dog['Color'] = np.where(dog['Color'].str.contains(\"Black Brindle\") ,\"Black\", dog['Color'])\n",
        "dog['Color'] = np.where(dog['Color'].str.contains(\"Liver\") ,\"Brown\", dog['Color'])\n",
        "\n",
        "\n",
        "#Test data\n",
        "testdog['Color'] = np.where(testdog['Color'].str.contains(\"White/\") ,\"White Mix\", testdog['Color'])\n",
        "testdog['Color'] = np.where(testdog['Color'].str.contains(\"Black/\") ,\"Black Mix\", testdog['Color']) \n",
        "testdog['Color'] = np.where(testdog['Color'].str.contains(\"Brown/\") ,\"Brown\", testdog['Color']) \n",
        "testdog['Color'] = np.where(testdog['Color'].str.contains(\"Blue/\") ,\"Blue\", testdog['Color']) \n",
        "testdog['Color'] = np.where(testdog['Color'].str.contains(\"Blue Tick/\") ,\"Blue\", testdog['Color'])\n",
        "testdog['Color'] = np.where(testdog['Color'].str.contains(\"/Blue\") ,\"Blue\", testdog['Color']) \n",
        "testdog['Color'] = np.where(testdog['Color'].str.contains(\"Tan/\") ,\"Buff\", testdog['Color'])\n",
        "testdog['Color'] = np.where(testdog['Color'].str.contains(\"Red/\") ,\"Red\", testdog['Color'])\n",
        "testdog['Color'] = np.where(testdog['Color'].str.contains(\"Brown Brindle/\") ,\"Brown\", testdog['Color'])\n",
        "testdog['Color'] = np.where(testdog['Color'].str.contains(\"Chocolate/\") ,\"Brown\", testdog['Color'])\n",
        "testdog['Color'] = np.where(testdog['Color'].str.contains(\"Gray/\") ,\"Gray\", testdog['Color'])\n",
        "testdog['Color'] = np.where(testdog['Color'].str.contains(\"Yellow Brindle/\") ,\"Buff\", testdog['Color'])\n",
        "testdog['Color'] = np.where(testdog['Color'].str.contains(\"Fawn/\") ,\"Buff\", testdog['Color'])\n",
        "testdog['Color'] = np.where(testdog['Color'].str.contains(\"Red Tick/\") ,\"Red\", testdog['Color'])\n",
        "testdog['Color'] = np.where(testdog['Color'].str.contains(\"Brown Merle/\") ,\"Brown\", testdog['Color'])\n",
        "testdog['Color'] = np.where(testdog['Color'].str.contains(\"Brown Tiger/\") ,\"Brown\", testdog['Color'])\n",
        "testdog['Color'] = np.where(testdog['Color'].str.contains(\"Brown Tiger\") ,\"Brown\", testdog['Color'])\n",
        "testdog['Color'] = np.where(testdog['Color'].str.contains(\"Liver/\") ,\"Brown\", testdog['Color'])\n",
        "testdog['Color'] = np.where(testdog['Color'].str.contains(\"Apricot/\") ,\"Orange\", testdog['Color'])\n",
        "testdog['Color'] = np.where(testdog['Color'].str.contains(\"Red Merle/\") ,\"Red\", testdog['Color'])\n",
        "testdog['Color'] = np.where(testdog['Color'].str.contains(\"Blue Merle/\") ,\"Blue\", testdog['Color'])\n",
        "testdog['Color'] = np.where(testdog['Color'].str.contains(\"Buff/\") ,\"Buff\", testdog['Color'])\n",
        "testdog['Color'] = np.where(testdog['Color'].str.contains(\"Sable/\") ,\"Sable\", testdog['Color'])\n",
        "testdog['Color'] = np.where(testdog['Color'].str.contains(\"Blue Tiger/\") ,\"Blue\", testdog['Color'])\n",
        "testdog['Color'] = np.where(testdog['Color'].str.contains(\"Yellow/\") ,\"Buff\", testdog['Color'])\n",
        "testdog['Color'] = np.where(testdog['Color'].str.contains(\"Tricolor/\") ,\"Tricolor\", testdog['Color'])\n",
        "testdog['Color'] = np.where(testdog['Color'].str.contains(\"Black Brindle/\") ,\"Black Mix\", testdog['Color'])\n",
        "testdog['Color'] = np.where(testdog['Color'].str.contains(\"Silver/\") ,\"Gray\", testdog['Color'])\n",
        "testdog['Color'] = np.where(testdog['Color'].str.contains(\"Cream/\") ,\"Buff\", testdog['Color'])\n",
        "testdog['Color'] = np.where(testdog['Color'].str.contains(\"Gold/\") ,\"Buff\", testdog['Color'])\n",
        "testdog['Color'] = np.where(testdog['Color'].str.contains(\"Orange/\") ,\"Orange\", testdog['Color'])\n",
        "testdog['Color'] = np.where(testdog['Color'].str.contains(\"Black Smoke/\") ,\"Black Mix\", testdog['Color'])\n",
        "testdog['Color'] = np.where(testdog['Color'].str.contains(\"Blue Smoke/\") ,\"Blue\", testdog['Color'])\n",
        "testdog['Color'] = np.where(testdog['Color'].str.contains(\"Ruddy/\") ,\"Red\", testdog['Color'])\n",
        "testdog['Color'] = np.where(testdog['Color'].str.contains(\"Liver Tick/\") ,\"Brown\", testdog['Color'])\n",
        "testdog['Color'] = np.where(testdog['Color'].str.contains(\"Black Tiger/\") ,\"Black Mix\", testdog['Color'])\n",
        "testdog['Color'] = np.where(testdog['Color'].str.contains(\"Tan\") ,\"Buff\", testdog['Color'])\n",
        "testdog['Color'] = np.where(testdog['Color'].str.contains(\"Silver\") ,\"Gray\", testdog['Color'])\n",
        "testdog['Color'] = np.where(testdog['Color'].str.contains(\"Yellow\") ,\"Buff\", testdog['Color'])\n",
        "testdog['Color'] = np.where(testdog['Color'].str.contains(\"Brown\") ,\"Brown\", testdog['Color'])\n",
        "testdog['Color'] = np.where(testdog['Color'].str.contains(\"Blue\") ,\"Blue\", testdog['Color'])\n",
        "testdog['Color'] = np.where(testdog['Color'].str.contains(\"Cream\") ,\"Buff\", testdog['Color'])\n",
        "testdog['Color'] = np.where(testdog['Color'].str.contains(\"Chocolate\") ,\"Brown\", testdog['Color'])\n",
        "testdog['Color'] = np.where(testdog['Color'].str.contains(\"Fawn\") ,\"Buff\", testdog['Color'])\n",
        "testdog['Color'] = np.where(testdog['Color'].str.contains(\"Apricot\") ,\"Orange\", testdog['Color'])\n",
        "testdog['Color'] = np.where(testdog['Color'].str.contains(\"Gold\") ,\"Buff\", testdog['Color'])\n",
        "testdog['Color'] = np.where(testdog['Color'].str.contains(\"Red\") ,\"Red\", testdog['Color'])\n",
        "testdog['Color'] = np.where(testdog['Color'].str.contains(\"Black Brindle\") ,\"Black\", testdog['Color'])\n",
        "testdog['Color'] = np.where(testdog['Color'].str.contains(\"Liver\") ,\"Brown\", testdog['Color'])\n",
        "\n",
        "dog['Color'].unique()"
      ],
      "execution_count": null,
      "outputs": [
        {
          "output_type": "execute_result",
          "data": {
            "text/plain": [
              "array(['Brown', 'Blue', 'Buff', 'Black Mix', 'Red', 'White', 'Gray',\n",
              "       'White Mix', 'Black', 'Tricolor', 'Sable', 'Orange'], dtype=object)"
            ]
          },
          "metadata": {
            "tags": []
          },
          "execution_count": 9
        }
      ]
    },
    {
      "cell_type": "markdown",
      "metadata": {
        "id": "l8Lwntay6cy8",
        "colab_type": "text"
      },
      "source": [
        "##K-Nearest Neighbor Model Prediction"
      ]
    },
    {
      "cell_type": "code",
      "metadata": {
        "id": "8fsqwWIH0mpj",
        "colab_type": "code",
        "colab": {
          "base_uri": "https://localhost:8080/",
          "height": 34
        },
        "outputId": "207a54df-da9f-4d8f-9d62-cab74d2b1b18"
      },
      "source": [
        "from sklearn.neighbors import KNeighborsClassifier\n",
        "from sklearn import preprocessing\n",
        "from sklearn.metrics import accuracy_score\n",
        "le = preprocessing.LabelEncoder()\n",
        "frames = [dog, cat]\n",
        "df = pd.concat(frames)\n",
        "frames = [testdog, testcat]\n",
        "test = pd.concat(frames)\n",
        "frames = [df, test]\n",
        "temp = pd.concat(frames)\n",
        "le.fit(['Dog','Cat'])\n",
        "df['AnimalType'] = le.transform(df['AnimalType'])\n",
        "test['AnimalType'] = le.transform(test['AnimalType'])\n",
        "le.fit(['Spayed Female','Neutered Male', 'Intact Male', 'Intact Female'])\n",
        "df['SexuponOutcome'] = le.transform(df['SexuponOutcome'])\n",
        "test['SexuponOutcome'] = le.transform(test['SexuponOutcome'])\n",
        "le.fit(temp['Breed'].unique())\n",
        "df['Breed'] = le.transform(df['Breed'])\n",
        "test['Breed'] = le.transform(test['Breed'])\n",
        "le.fit(temp['Color'].unique())\n",
        "df['Color'] = le.transform(df['Color'])\n",
        "test['Color'] = le.transform(test['Color'])\n",
        "train_x = df.drop('OutcomeType', axis=1)\n",
        "train_y = df['OutcomeType']\n",
        "test_x = test.drop('OutcomeType', axis=1)\n",
        "test_y = test['OutcomeType']\n",
        "neigh = KNeighborsClassifier()\n",
        "neigh.fit(train_x,train_y)\n",
        "pred = neigh.predict(test_x)\n",
        "print (\"Model accuracy score : \",accuracy_score(test_y, pred))"
      ],
      "execution_count": null,
      "outputs": [
        {
          "output_type": "stream",
          "text": [
            "Model accuracy score :  0.5423332032774093\n"
          ],
          "name": "stdout"
        }
      ]
    },
    {
      "cell_type": "markdown",
      "metadata": {
        "id": "YjAviCjCWQEv",
        "colab_type": "text"
      },
      "source": [
        "The K Nearest Neighbor classification algorithm stores the cases from the train dataset, then classifies new cases based on what is most common amongst its k nearest neighbors. The neighbors are determined by a distance function. An accuracy of 54% is much higher randomly selecting a classification (20%). However, 54% is not ideal and represents a a solid baseline."
      ]
    },
    {
      "cell_type": "markdown",
      "metadata": {
        "id": "VY78YNoY7cV_",
        "colab_type": "text"
      },
      "source": [
        "## Naive-Bayes Model Prediction"
      ]
    },
    {
      "cell_type": "code",
      "metadata": {
        "id": "guRDcq4K2yhw",
        "colab_type": "code",
        "colab": {
          "base_uri": "https://localhost:8080/",
          "height": 34
        },
        "outputId": "c54dbb5e-f7f7-4767-c969-dcdafc67dacf"
      },
      "source": [
        "from sklearn.naive_bayes import GaussianNB\n",
        "gnb = GaussianNB()\n",
        "gnb.fit(train_x,train_y)\n",
        "pred = gnb.predict(test_x)\n",
        "print (\"Model accuracy score : \",accuracy_score(test_y, pred))"
      ],
      "execution_count": null,
      "outputs": [
        {
          "output_type": "stream",
          "text": [
            "Model accuracy score :  0.6145142411236831\n"
          ],
          "name": "stdout"
        }
      ]
    },
    {
      "cell_type": "markdown",
      "metadata": {
        "id": "yN9tbDUVNxLO",
        "colab_type": "text"
      },
      "source": [
        "The Naive-Bayes machine learning algorithm is a classification algorithm that uses probability for predictions. The algorithm first calculates the probability for a given class label and then the probability with each attribute. Then using Bayes formula posterior probability is calculated. The class with highest probability is selected. This method proved to be more accurate than K-nearest neighbor, resulting in an accuracy of 61%."
      ]
    },
    {
      "cell_type": "markdown",
      "metadata": {
        "id": "TtYfxFFPc8NT",
        "colab_type": "text"
      },
      "source": [
        "## Random Forests Model Prediction"
      ]
    },
    {
      "cell_type": "code",
      "metadata": {
        "id": "tEC9JpJPgSfG",
        "colab_type": "code",
        "colab": {
          "base_uri": "https://localhost:8080/",
          "height": 34
        },
        "outputId": "88a83eed-2111-4fae-e82b-d0a09c3bf297"
      },
      "source": [
        "from sklearn.ensemble import RandomForestClassifier\n",
        "rfc = RandomForestClassifier()\n",
        "rfc.fit(train_x,train_y)\n",
        "pred = rfc.predict(test_x)\n",
        "print (\"Model accuracy score : \",accuracy_score(test_y, pred))"
      ],
      "execution_count": null,
      "outputs": [
        {
          "output_type": "stream",
          "text": [
            "Model accuracy score :  0.6455325790089739\n"
          ],
          "name": "stdout"
        }
      ]
    },
    {
      "cell_type": "markdown",
      "metadata": {
        "id": "AG89piDa6uya",
        "colab_type": "text"
      },
      "source": [
        "The Random Forests machine learning algorithm classifies data by sampling the training dataset and using it to create decision trees. These decision trees are used to generate predictions. When predicting, a vote occurs where each tree votes for a classification for each predicted result. The value with the most votes is selected. The accuracy of the model is almost 65% which is the most accurate model."
      ]
    }
  ]
}